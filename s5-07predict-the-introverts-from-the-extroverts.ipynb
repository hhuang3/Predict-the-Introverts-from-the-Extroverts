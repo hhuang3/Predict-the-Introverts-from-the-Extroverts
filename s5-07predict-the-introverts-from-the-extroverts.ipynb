{
 "cells": [
  {
   "cell_type": "code",
   "execution_count": 1,
   "id": "6a7b8516",
   "metadata": {
    "_cell_guid": "b1076dfc-b9ad-4769-8c92-a6c4dae69d19",
    "_uuid": "8f2839f25d086af736a60e9eeb907d3b93b6e0e5",
    "execution": {
     "iopub.execute_input": "2025-07-06T09:13:56.237488Z",
     "iopub.status.busy": "2025-07-06T09:13:56.237158Z",
     "iopub.status.idle": "2025-07-06T09:14:00.559106Z",
     "shell.execute_reply": "2025-07-06T09:14:00.558004Z"
    },
    "papermill": {
     "duration": 4.328673,
     "end_time": "2025-07-06T09:14:00.561045",
     "exception": false,
     "start_time": "2025-07-06T09:13:56.232372",
     "status": "completed"
    },
    "tags": []
   },
   "outputs": [],
   "source": [
    "import pandas as pd #load and manipulate data and for one-hot encoding\n",
    "\n",
    "import numpy as np # calculate the mean and standard deviation\n",
    "\n",
    "import xgboost as xgb\n",
    "\n",
    "from sklearn.model_selection import train_test_split # split training/testing set\n",
    "from sklearn.model_selection import GridSearchCV #cross validation\n",
    "from sklearn.metrics import balanced_accuracy_score, roc_auc_score, make_scorer\n",
    "from sklearn.metrics import confusion_matrix # create a confusion matrix\n",
    "from sklearn.preprocessing import LabelEncoder\n",
    "from sklearn.metrics import ConfusionMatrixDisplay, confusion_matrix\n",
    "from sklearn.metrics import classification_report\n",
    "from sklearn.model_selection import StratifiedKFold\n",
    "\n",
    "import matplotlib.pyplot as plt\n",
    "\n"
   ]
  },
  {
   "cell_type": "code",
   "execution_count": 2,
   "id": "ec91465e",
   "metadata": {
    "execution": {
     "iopub.execute_input": "2025-07-06T09:14:00.569451Z",
     "iopub.status.busy": "2025-07-06T09:14:00.568826Z",
     "iopub.status.idle": "2025-07-06T09:14:00.638686Z",
     "shell.execute_reply": "2025-07-06T09:14:00.637661Z"
    },
    "papermill": {
     "duration": 0.075599,
     "end_time": "2025-07-06T09:14:00.640502",
     "exception": false,
     "start_time": "2025-07-06T09:14:00.564903",
     "status": "completed"
    },
    "tags": []
   },
   "outputs": [],
   "source": [
    "train = pd.read_csv(\"/kaggle/input/playground-series-s5e7/train.csv\")\n",
    "test = pd.read_csv('/kaggle/input/playground-series-s5e7/test.csv')"
   ]
  },
  {
   "cell_type": "code",
   "execution_count": 3,
   "id": "d7049f73",
   "metadata": {
    "execution": {
     "iopub.execute_input": "2025-07-06T09:14:00.648183Z",
     "iopub.status.busy": "2025-07-06T09:14:00.647815Z",
     "iopub.status.idle": "2025-07-06T09:14:00.699935Z",
     "shell.execute_reply": "2025-07-06T09:14:00.698129Z"
    },
    "papermill": {
     "duration": 0.058992,
     "end_time": "2025-07-06T09:14:00.702816",
     "exception": false,
     "start_time": "2025-07-06T09:14:00.643824",
     "status": "completed"
    },
    "tags": []
   },
   "outputs": [
    {
     "name": "stdout",
     "output_type": "stream",
     "text": [
      "general info:\n",
      "<class 'pandas.core.frame.DataFrame'>\n",
      "RangeIndex: 18524 entries, 0 to 18523\n",
      "Data columns (total 9 columns):\n",
      " #   Column                     Non-Null Count  Dtype  \n",
      "---  ------                     --------------  -----  \n",
      " 0   id                         18524 non-null  int64  \n",
      " 1   Time_spent_Alone           17334 non-null  float64\n",
      " 2   Stage_fear                 16631 non-null  object \n",
      " 3   Social_event_attendance    17344 non-null  float64\n",
      " 4   Going_outside              17058 non-null  float64\n",
      " 5   Drained_after_socializing  17375 non-null  object \n",
      " 6   Friends_circle_size        17470 non-null  float64\n",
      " 7   Post_frequency             17260 non-null  float64\n",
      " 8   Personality                18524 non-null  object \n",
      "dtypes: float64(5), int64(1), object(3)\n",
      "memory usage: 1.3+ MB\n",
      "Unique values by column:\n",
      "\n",
      "Time_spent_Alone:\n",
      "[ 0.  1.  6.  3.  2.  4. nan  5.  9. 10.  7.  8. 11.]\n",
      "\n",
      "Stage_fear:\n",
      "['No' 'Yes' nan]\n",
      "\n",
      "Social_event_attendance:\n",
      "[ 6.  7.  1.  4.  8.  2.  5. nan  0.  9.  3. 10.]\n",
      "\n",
      "Going_outside:\n",
      "[ 4.  3.  0.  5. nan  1.  6.  2.  7.]\n",
      "\n",
      "Drained_after_socializing:\n",
      "['No' nan 'Yes']\n",
      "\n",
      "Friends_circle_size:\n",
      "[15. 10.  3. 11. 13. nan  4.  0. 14.  5.  9. 12.  8.  2.  1.  6.  7.]\n",
      "\n",
      "Post_frequency:\n",
      "[ 5.  8.  0. nan  3.  4.  2.  9. 10.  6.  7.  1.]\n",
      "\n",
      "Personality:\n",
      "['Extrovert' 'Introvert']\n",
      "missing data:\n",
      "id                              0\n",
      "Time_spent_Alone             1190\n",
      "Stage_fear                   1893\n",
      "Social_event_attendance      1180\n",
      "Going_outside                1466\n",
      "Drained_after_socializing    1149\n",
      "Friends_circle_size          1054\n",
      "Post_frequency               1264\n",
      "Personality                     0\n",
      "dtype: int64\n"
     ]
    }
   ],
   "source": [
    "print('general info:')\n",
    "train.info()\n",
    "\n",
    "print(\"Unique values by column:\")\n",
    "cols = [\n",
    "    'Time_spent_Alone',\n",
    "    'Stage_fear',\n",
    "    'Social_event_attendance',\n",
    "    'Going_outside',\n",
    "    'Drained_after_socializing',\n",
    "    'Friends_circle_size',\n",
    "    'Post_frequency',\n",
    "    'Personality'\n",
    "]\n",
    "\n",
    "for col in cols:\n",
    "    print(f\"\\n{col}:\")\n",
    "    print(train[col].unique())\n",
    "\n",
    "print('missing data:')\n",
    "missing = train.isnull().sum()\n",
    "print(missing)\n"
   ]
  },
  {
   "cell_type": "code",
   "execution_count": 4,
   "id": "b4a846ef",
   "metadata": {
    "execution": {
     "iopub.execute_input": "2025-07-06T09:14:00.710749Z",
     "iopub.status.busy": "2025-07-06T09:14:00.710418Z",
     "iopub.status.idle": "2025-07-06T09:14:00.720070Z",
     "shell.execute_reply": "2025-07-06T09:14:00.719064Z"
    },
    "papermill": {
     "duration": 0.015525,
     "end_time": "2025-07-06T09:14:00.721729",
     "exception": false,
     "start_time": "2025-07-06T09:14:00.706204",
     "status": "completed"
    },
    "tags": []
   },
   "outputs": [
    {
     "data": {
      "text/plain": [
       "Personality\n",
       "Extrovert    0.739527\n",
       "Introvert    0.260473\n",
       "Name: proportion, dtype: float64"
      ]
     },
     "execution_count": 4,
     "metadata": {},
     "output_type": "execute_result"
    }
   ],
   "source": [
    "train['Personality'].value_counts(normalize=True)"
   ]
  },
  {
   "cell_type": "code",
   "execution_count": 5,
   "id": "9374cd11",
   "metadata": {
    "execution": {
     "iopub.execute_input": "2025-07-06T09:14:00.729182Z",
     "iopub.status.busy": "2025-07-06T09:14:00.728811Z",
     "iopub.status.idle": "2025-07-06T09:14:00.770211Z",
     "shell.execute_reply": "2025-07-06T09:14:00.769149Z"
    },
    "papermill": {
     "duration": 0.047149,
     "end_time": "2025-07-06T09:14:00.772140",
     "exception": false,
     "start_time": "2025-07-06T09:14:00.724991",
     "status": "completed"
    },
    "tags": []
   },
   "outputs": [
    {
     "name": "stdout",
     "output_type": "stream",
     "text": [
      "          id  Time_spent_Alone  Stage_fear  Social_event_attendance  \\\n",
      "0          0               0.0           0                      6.0   \n",
      "1          1               1.0           0                      7.0   \n",
      "2          2               6.0           1                      1.0   \n",
      "3          3               3.0           0                      7.0   \n",
      "4          4               1.0           0                      4.0   \n",
      "...      ...               ...         ...                      ...   \n",
      "18519  18519               3.0           0                      7.0   \n",
      "18520  18520               1.0           2                      6.0   \n",
      "18521  18521               7.0           1                      1.0   \n",
      "18522  18522               NaN           1                      1.0   \n",
      "18523  18523               1.0           0                      8.0   \n",
      "\n",
      "       Going_outside  Drained_after_socializing  Friends_circle_size  \\\n",
      "0                4.0                          0                 15.0   \n",
      "1                3.0                          0                 10.0   \n",
      "2                0.0                          2                  3.0   \n",
      "3                3.0                          0                 11.0   \n",
      "4                4.0                          0                 13.0   \n",
      "...              ...                        ...                  ...   \n",
      "18519            3.0                          0                  9.0   \n",
      "18520            7.0                          0                  6.0   \n",
      "18521            1.0                          1                  1.0   \n",
      "18522            0.0                          1                  5.0   \n",
      "18523            6.0                          0                  4.0   \n",
      "\n",
      "       Post_frequency  Personality  \n",
      "0                 5.0            0  \n",
      "1                 8.0            0  \n",
      "2                 0.0            1  \n",
      "3                 5.0            0  \n",
      "4                 NaN            0  \n",
      "...               ...          ...  \n",
      "18519             7.0            0  \n",
      "18520             5.0            0  \n",
      "18521             NaN            1  \n",
      "18522             2.0            1  \n",
      "18523             7.0            0  \n",
      "\n",
      "[18524 rows x 9 columns]\n",
      "         id  Time_spent_Alone  Stage_fear  Social_event_attendance  \\\n",
      "0     18524               3.0           0                      7.0   \n",
      "1     18525               NaN           1                      0.0   \n",
      "2     18526               3.0           0                      5.0   \n",
      "3     18527               3.0           0                      4.0   \n",
      "4     18528               9.0           1                      1.0   \n",
      "...     ...               ...         ...                      ...   \n",
      "6170  24694               3.0           0                      5.0   \n",
      "6171  24695               8.0           1                      2.0   \n",
      "6172  24696               2.0           0                      4.0   \n",
      "6173  24697               3.0           0                      4.0   \n",
      "6174  24698               NaN           1                      1.0   \n",
      "\n",
      "      Going_outside  Drained_after_socializing  Friends_circle_size  \\\n",
      "0               4.0                          0                  6.0   \n",
      "1               0.0                          1                  5.0   \n",
      "2               6.0                          0                 15.0   \n",
      "3               4.0                          0                  5.0   \n",
      "4               2.0                          1                  1.0   \n",
      "...             ...                        ...                  ...   \n",
      "6170            5.0                          0                  9.0   \n",
      "6171            1.0                          1                  0.0   \n",
      "6172            3.0                          0                  9.0   \n",
      "6173            4.0                          0                 11.0   \n",
      "6174            1.0                          1                  1.0   \n",
      "\n",
      "      Post_frequency  \n",
      "0                NaN  \n",
      "1                1.0  \n",
      "2                9.0  \n",
      "3                6.0  \n",
      "4                1.0  \n",
      "...              ...  \n",
      "6170             6.0  \n",
      "6171             0.0  \n",
      "6172             7.0  \n",
      "6173             9.0  \n",
      "6174             0.0  \n",
      "\n",
      "[6175 rows x 8 columns]\n"
     ]
    },
    {
     "name": "stderr",
     "output_type": "stream",
     "text": [
      "/usr/local/lib/python3.11/dist-packages/pandas/io/formats/format.py:1458: RuntimeWarning: invalid value encountered in greater\n",
      "  has_large_values = (abs_vals > 1e6).any()\n",
      "/usr/local/lib/python3.11/dist-packages/pandas/io/formats/format.py:1459: RuntimeWarning: invalid value encountered in less\n",
      "  has_small_values = ((abs_vals < 10 ** (-self.digits)) & (abs_vals > 0)).any()\n",
      "/usr/local/lib/python3.11/dist-packages/pandas/io/formats/format.py:1459: RuntimeWarning: invalid value encountered in greater\n",
      "  has_small_values = ((abs_vals < 10 ** (-self.digits)) & (abs_vals > 0)).any()\n",
      "/usr/local/lib/python3.11/dist-packages/pandas/io/formats/format.py:1458: RuntimeWarning: invalid value encountered in greater\n",
      "  has_large_values = (abs_vals > 1e6).any()\n",
      "/usr/local/lib/python3.11/dist-packages/pandas/io/formats/format.py:1459: RuntimeWarning: invalid value encountered in less\n",
      "  has_small_values = ((abs_vals < 10 ** (-self.digits)) & (abs_vals > 0)).any()\n",
      "/usr/local/lib/python3.11/dist-packages/pandas/io/formats/format.py:1459: RuntimeWarning: invalid value encountered in greater\n",
      "  has_small_values = ((abs_vals < 10 ** (-self.digits)) & (abs_vals > 0)).any()\n"
     ]
    }
   ],
   "source": [
    "label_cols = ['Stage_fear', 'Drained_after_socializing', 'Personality']\n",
    "le_dict = {}\n",
    "for col in label_cols:\n",
    "    le = LabelEncoder()\n",
    "    train[col] = le.fit_transform(train[col].astype(str))\n",
    "    if col in test.columns:\n",
    "        test[col] = le.transform(test[col].astype(str))\n",
    "    le_dict[col] = le\n",
    "\n",
    "print(train)\n",
    "print(test)"
   ]
  },
  {
   "cell_type": "code",
   "execution_count": 6,
   "id": "c3de15b2",
   "metadata": {
    "execution": {
     "iopub.execute_input": "2025-07-06T09:14:00.780676Z",
     "iopub.status.busy": "2025-07-06T09:14:00.779787Z",
     "iopub.status.idle": "2025-07-06T09:14:01.327416Z",
     "shell.execute_reply": "2025-07-06T09:14:01.326236Z"
    },
    "papermill": {
     "duration": 0.55381,
     "end_time": "2025-07-06T09:14:01.329404",
     "exception": false,
     "start_time": "2025-07-06T09:14:00.775594",
     "status": "completed"
    },
    "tags": []
   },
   "outputs": [
    {
     "name": "stdout",
     "output_type": "stream",
     "text": [
      "Baseline Model Performance:\n",
      "              precision    recall  f1-score   support\n",
      "\n",
      "           0       0.98      0.98      0.98      2740\n",
      "           1       0.94      0.95      0.94       965\n",
      "\n",
      "    accuracy                           0.97      3705\n",
      "   macro avg       0.96      0.96      0.96      3705\n",
      "weighted avg       0.97      0.97      0.97      3705\n",
      "\n"
     ]
    },
    {
     "data": {
      "image/png": "[encoded data removed]",
      "text/plain": [
       "<Figure size 640x480 with 2 Axes>"
      ]
     },
     "metadata": {},
     "output_type": "display_data"
    }
   ],
   "source": [
    "# Define features and target\n",
    "X = train.drop(columns=['id', 'Personality'])\n",
    "y = train['Personality']\n",
    "\n",
    "# Let's first look at the baseline XGBoost model\n",
    "X_train, X_test, y_train, y_test = train_test_split(X, y, stratify=y, test_size=0.2, random_state=42)\n",
    "\n",
    "baseline_model = xgb.XGBClassifier(use_label_encoder=False, eval_metric='logloss')\n",
    "baseline_model.fit(X_train, y_train)\n",
    "\n",
    "# Evaluate baseline model\n",
    "y_pred_baseline = baseline_model.predict(X_test)\n",
    "print(\"Baseline Model Performance:\")\n",
    "print(classification_report(y_test, y_pred_baseline))\n",
    "ConfusionMatrixDisplay.from_estimator(baseline_model, X_test, y_test)\n",
    "plt.title(\"Baseline Confusion Matrix\")\n",
    "plt.show()"
   ]
  },
  {
   "cell_type": "code",
   "execution_count": 7,
   "id": "b1b3ce62",
   "metadata": {
    "execution": {
     "iopub.execute_input": "2025-07-06T09:14:01.339707Z",
     "iopub.status.busy": "2025-07-06T09:14:01.338740Z",
     "iopub.status.idle": "2025-07-06T09:14:01.343460Z",
     "shell.execute_reply": "2025-07-06T09:14:01.342560Z"
    },
    "papermill": {
     "duration": 0.011649,
     "end_time": "2025-07-06T09:14:01.345245",
     "exception": false,
     "start_time": "2025-07-06T09:14:01.333596",
     "status": "completed"
    },
    "tags": []
   },
   "outputs": [],
   "source": [
    "#scale_pos_weight = (number of negative class samples) / (number of positive class samples)\n",
    "#scale_pos_weight = 2740 / 965 ≈ 2.84\n"
   ]
  },
  {
   "cell_type": "code",
   "execution_count": 8,
   "id": "312bac1c",
   "metadata": {
    "execution": {
     "iopub.execute_input": "2025-07-06T09:14:01.355170Z",
     "iopub.status.busy": "2025-07-06T09:14:01.354666Z",
     "iopub.status.idle": "2025-07-06T09:15:04.698722Z",
     "shell.execute_reply": "2025-07-06T09:15:04.697685Z"
    },
    "papermill": {
     "duration": 63.353312,
     "end_time": "2025-07-06T09:15:04.702837",
     "exception": false,
     "start_time": "2025-07-06T09:14:01.349525",
     "status": "completed"
    },
    "tags": []
   },
   "outputs": [
    {
     "name": "stdout",
     "output_type": "stream",
     "text": [
      "Fitting 3 folds for each of 216 candidates, totalling 648 fits\n"
     ]
    },
    {
     "data": {
      "text/html": [
       "<style>#sk-container-id-1 {color: black;background-color: white;}#sk-container-id-1 pre{padding: 0;}#sk-container-id-1 div.sk-toggleable {background-color: white;}#sk-container-id-1 label.sk-toggleable__label {cursor: pointer;display: block;width: 100%;margin-bottom: 0;padding: 0.3em;box-sizing: border-box;text-align: center;}#sk-container-id-1 label.sk-toggleable__label-arrow:before {content: \"▸\";float: left;margin-right: 0.25em;color: #696969;}#sk-container-id-1 label.sk-toggleable__label-arrow:hover:before {color: black;}#sk-container-id-1 div.sk-estimator:hover label.sk-toggleable__label-arrow:before {color: black;}#sk-container-id-1 div.sk-toggleable__content {max-height: 0;max-width: 0;overflow: hidden;text-align: left;background-color: #f0f8ff;}#sk-container-id-1 div.sk-toggleable__content pre {margin: 0.2em;color: black;border-radius: 0.25em;background-color: #f0f8ff;}#sk-container-id-1 input.sk-toggleable__control:checked~div.sk-toggleable__content {max-height: 200px;max-width: 100%;overflow: auto;}#sk-container-id-1 input.sk-toggleable__control:checked~label.sk-toggleable__label-arrow:before {content: \"▾\";}#sk-container-id-1 div.sk-estimator input.sk-toggleable__control:checked~label.sk-toggleable__label {background-color: #d4ebff;}#sk-container-id-1 div.sk-label input.sk-toggleable__control:checked~label.sk-toggleable__label {background-color: #d4ebff;}#sk-container-id-1 input.sk-hidden--visually {border: 0;clip: rect(1px 1px 1px 1px);clip: rect(1px, 1px, 1px, 1px);height: 1px;margin: -1px;overflow: hidden;padding: 0;position: absolute;width: 1px;}#sk-container-id-1 div.sk-estimator {font-family: monospace;background-color: #f0f8ff;border: 1px dotted black;border-radius: 0.25em;box-sizing: border-box;margin-bottom: 0.5em;}#sk-container-id-1 div.sk-estimator:hover {background-color: #d4ebff;}#sk-container-id-1 div.sk-parallel-item::after {content: \"\";width: 100%;border-bottom: 1px solid gray;flex-grow: 1;}#sk-container-id-1 div.sk-label:hover label.sk-toggleable__label {background-color: #d4ebff;}#sk-container-id-1 div.sk-serial::before {content: \"\";position: absolute;border-left: 1px solid gray;box-sizing: border-box;top: 0;bottom: 0;left: 50%;z-index: 0;}#sk-container-id-1 div.sk-serial {display: flex;flex-direction: column;align-items: center;background-color: white;padding-right: 0.2em;padding-left: 0.2em;position: relative;}#sk-container-id-1 div.sk-item {position: relative;z-index: 1;}#sk-container-id-1 div.sk-parallel {display: flex;align-items: stretch;justify-content: center;background-color: white;position: relative;}#sk-container-id-1 div.sk-item::before, #sk-container-id-1 div.sk-parallel-item::before {content: \"\";position: absolute;border-left: 1px solid gray;box-sizing: border-box;top: 0;bottom: 0;left: 50%;z-index: -1;}#sk-container-id-1 div.sk-parallel-item {display: flex;flex-direction: column;z-index: 1;position: relative;background-color: white;}#sk-container-id-1 div.sk-parallel-item:first-child::after {align-self: flex-end;width: 50%;}#sk-container-id-1 div.sk-parallel-item:last-child::after {align-self: flex-start;width: 50%;}#sk-container-id-1 div.sk-parallel-item:only-child::after {width: 0;}#sk-container-id-1 div.sk-dashed-wrapped {border: 1px dashed gray;margin: 0 0.4em 0.5em 0.4em;box-sizing: border-box;padding-bottom: 0.4em;background-color: white;}#sk-container-id-1 div.sk-label label {font-family: monospace;font-weight: bold;display: inline-block;line-height: 1.2em;}#sk-container-id-1 div.sk-label-container {text-align: center;}#sk-container-id-1 div.sk-container {/* jupyter's `normalize.less` sets `[hidden] { display: none; }` but bootstrap.min.css set `[hidden] { display: none !important; }` so we also need the `!important` here to be able to override the default hidden behavior on the sphinx rendered scikit-learn.org. See: https://github.com/scikit-learn/scikit-learn/issues/21755 */display: inline-block !important;position: relative;}#sk-container-id-1 div.sk-text-repr-fallback {display: none;}</style><div id=\"sk-container-id-1\" class=\"sk-top-container\"><div class=\"sk-text-repr-fallback\"><pre>GridSearchCV(cv=StratifiedKFold(n_splits=3, random_state=42, shuffle=True),\n",
       "             estimator=XGBClassifier(base_score=None, booster=None,\n",
       "                                     callbacks=None, colsample_bylevel=None,\n",
       "                                     colsample_bynode=None,\n",
       "                                     colsample_bytree=None, device=None,\n",
       "                                     early_stopping_rounds=None,\n",
       "                                     enable_categorical=False,\n",
       "                                     eval_metric=&#x27;logloss&#x27;, feature_types=None,\n",
       "                                     gamma=None, grow_policy=None,\n",
       "                                     importanc...\n",
       "                                     max_leaves=None, min_child_weight=None,\n",
       "                                     missing=nan, monotone_constraints=None,\n",
       "                                     multi_strategy=None, n_estimators=None,\n",
       "                                     n_jobs=None, num_parallel_tree=None,\n",
       "                                     random_state=None, ...),\n",
       "             n_jobs=-1,\n",
       "             param_grid={&#x27;colsample_bytree&#x27;: [0.8, 1.0],\n",
       "                         &#x27;learning_rate&#x27;: [0.01, 0.1, 0.3],\n",
       "                         &#x27;max_depth&#x27;: [3, 5, 7], &#x27;n_estimators&#x27;: [100, 200],\n",
       "                         &#x27;scale_pos_weight&#x27;: [1, 2.5, 3],\n",
       "                         &#x27;subsample&#x27;: [0.8, 1.0]},\n",
       "             scoring=&#x27;accuracy&#x27;, verbose=1)</pre><b>In a Jupyter environment, please rerun this cell to show the HTML representation or trust the notebook. <br />On GitHub, the HTML representation is unable to render, please try loading this page with nbviewer.org.</b></div><div class=\"sk-container\" hidden><div class=\"sk-item sk-dashed-wrapped\"><div class=\"sk-label-container\"><div class=\"sk-label sk-toggleable\"><input class=\"sk-toggleable__control sk-hidden--visually\" id=\"sk-estimator-id-1\" type=\"checkbox\" ><label for=\"sk-estimator-id-1\" class=\"sk-toggleable__label sk-toggleable__label-arrow\">GridSearchCV</label><div class=\"sk-toggleable__content\"><pre>GridSearchCV(cv=StratifiedKFold(n_splits=3, random_state=42, shuffle=True),\n",
       "             estimator=XGBClassifier(base_score=None, booster=None,\n",
       "                                     callbacks=None, colsample_bylevel=None,\n",
       "                                     colsample_bynode=None,\n",
       "                                     colsample_bytree=None, device=None,\n",
       "                                     early_stopping_rounds=None,\n",
       "                                     enable_categorical=False,\n",
       "                                     eval_metric=&#x27;logloss&#x27;, feature_types=None,\n",
       "                                     gamma=None, grow_policy=None,\n",
       "                                     importanc...\n",
       "                                     max_leaves=None, min_child_weight=None,\n",
       "                                     missing=nan, monotone_constraints=None,\n",
       "                                     multi_strategy=None, n_estimators=None,\n",
       "                                     n_jobs=None, num_parallel_tree=None,\n",
       "                                     random_state=None, ...),\n",
       "             n_jobs=-1,\n",
       "             param_grid={&#x27;colsample_bytree&#x27;: [0.8, 1.0],\n",
       "                         &#x27;learning_rate&#x27;: [0.01, 0.1, 0.3],\n",
       "                         &#x27;max_depth&#x27;: [3, 5, 7], &#x27;n_estimators&#x27;: [100, 200],\n",
       "                         &#x27;scale_pos_weight&#x27;: [1, 2.5, 3],\n",
       "                         &#x27;subsample&#x27;: [0.8, 1.0]},\n",
       "             scoring=&#x27;accuracy&#x27;, verbose=1)</pre></div></div></div><div class=\"sk-parallel\"><div class=\"sk-parallel-item\"><div class=\"sk-item\"><div class=\"sk-label-container\"><div class=\"sk-label sk-toggleable\"><input class=\"sk-toggleable__control sk-hidden--visually\" id=\"sk-estimator-id-2\" type=\"checkbox\" ><label for=\"sk-estimator-id-2\" class=\"sk-toggleable__label sk-toggleable__label-arrow\">estimator: XGBClassifier</label><div class=\"sk-toggleable__content\"><pre>XGBClassifier(base_score=None, booster=None, callbacks=None,\n",
       "              colsample_bylevel=None, colsample_bynode=None,\n",
       "              colsample_bytree=None, device=None, early_stopping_rounds=None,\n",
       "              enable_categorical=False, eval_metric=&#x27;logloss&#x27;,\n",
       "              feature_types=None, gamma=None, grow_policy=None,\n",
       "              importance_type=None, interaction_constraints=None,\n",
       "              learning_rate=None, max_bin=None, max_cat_threshold=None,\n",
       "              max_cat_to_onehot=None, max_delta_step=None, max_depth=None,\n",
       "              max_leaves=None, min_child_weight=None, missing=nan,\n",
       "              monotone_constraints=None, multi_strategy=None, n_estimators=None,\n",
       "              n_jobs=None, num_parallel_tree=None, random_state=None, ...)</pre></div></div></div><div class=\"sk-serial\"><div class=\"sk-item\"><div class=\"sk-estimator sk-toggleable\"><input class=\"sk-toggleable__control sk-hidden--visually\" id=\"sk-estimator-id-3\" type=\"checkbox\" ><label for=\"sk-estimator-id-3\" class=\"sk-toggleable__label sk-toggleable__label-arrow\">XGBClassifier</label><div class=\"sk-toggleable__content\"><pre>XGBClassifier(base_score=None, booster=None, callbacks=None,\n",
       "              colsample_bylevel=None, colsample_bynode=None,\n",
       "              colsample_bytree=None, device=None, early_stopping_rounds=None,\n",
       "              enable_categorical=False, eval_metric=&#x27;logloss&#x27;,\n",
       "              feature_types=None, gamma=None, grow_policy=None,\n",
       "              importance_type=None, interaction_constraints=None,\n",
       "              learning_rate=None, max_bin=None, max_cat_threshold=None,\n",
       "              max_cat_to_onehot=None, max_delta_step=None, max_depth=None,\n",
       "              max_leaves=None, min_child_weight=None, missing=nan,\n",
       "              monotone_constraints=None, multi_strategy=None, n_estimators=None,\n",
       "              n_jobs=None, num_parallel_tree=None, random_state=None, ...)</pre></div></div></div></div></div></div></div></div></div></div>"
      ],
      "text/plain": [
       "GridSearchCV(cv=StratifiedKFold(n_splits=3, random_state=42, shuffle=True),\n",
       "             estimator=XGBClassifier(base_score=None, booster=None,\n",
       "                                     callbacks=None, colsample_bylevel=None,\n",
       "                                     colsample_bynode=None,\n",
       "                                     colsample_bytree=None, device=None,\n",
       "                                     early_stopping_rounds=None,\n",
       "                                     enable_categorical=False,\n",
       "                                     eval_metric='logloss', feature_types=None,\n",
       "                                     gamma=None, grow_policy=None,\n",
       "                                     importanc...\n",
       "                                     max_leaves=None, min_child_weight=None,\n",
       "                                     missing=nan, monotone_constraints=None,\n",
       "                                     multi_strategy=None, n_estimators=None,\n",
       "                                     n_jobs=None, num_parallel_tree=None,\n",
       "                                     random_state=None, ...),\n",
       "             n_jobs=-1,\n",
       "             param_grid={'colsample_bytree': [0.8, 1.0],\n",
       "                         'learning_rate': [0.01, 0.1, 0.3],\n",
       "                         'max_depth': [3, 5, 7], 'n_estimators': [100, 200],\n",
       "                         'scale_pos_weight': [1, 2.5, 3],\n",
       "                         'subsample': [0.8, 1.0]},\n",
       "             scoring='accuracy', verbose=1)"
      ]
     },
     "execution_count": 8,
     "metadata": {},
     "output_type": "execute_result"
    }
   ],
   "source": [
    "# 4. Hyperparameter Tuning with Cross-Validation\n",
    "param_grid = {\n",
    "    'max_depth': [3, 5, 7],\n",
    "    'learning_rate': [0.01, 0.1, 0.3],\n",
    "    'n_estimators': [100, 200],\n",
    "    'subsample': [0.8, 1.0],\n",
    "    'colsample_bytree': [0.8, 1.0],\n",
    "    'scale_pos_weight': [1, 2.5, 3]\n",
    "}\n",
    "\n",
    "cv = StratifiedKFold(n_splits=3, shuffle=True, random_state=42)\n",
    "\n",
    "grid_search = GridSearchCV(estimator=xgb.XGBClassifier(use_label_encoder=False, eval_metric='logloss'),\n",
    "                           param_grid=param_grid,\n",
    "                           scoring='accuracy',\n",
    "                           cv=cv,\n",
    "                           verbose=1,\n",
    "                           n_jobs=-1)\n",
    "\n",
    "grid_search.fit(X_train, y_train)\n"
   ]
  },
  {
   "cell_type": "code",
   "execution_count": 9,
   "id": "408092e0",
   "metadata": {
    "execution": {
     "iopub.execute_input": "2025-07-06T09:15:04.712474Z",
     "iopub.status.busy": "2025-07-06T09:15:04.712166Z",
     "iopub.status.idle": "2025-07-06T09:15:05.204363Z",
     "shell.execute_reply": "2025-07-06T09:15:05.203233Z"
    },
    "papermill": {
     "duration": 0.499188,
     "end_time": "2025-07-06T09:15:05.206255",
     "exception": false,
     "start_time": "2025-07-06T09:15:04.707067",
     "status": "completed"
    },
    "tags": []
   },
   "outputs": [
    {
     "name": "stdout",
     "output_type": "stream",
     "text": [
      "Tuned Model Performance:\n",
      "              precision    recall  f1-score   support\n",
      "\n",
      "           0       0.98      0.98      0.98      2740\n",
      "           1       0.94      0.95      0.95       965\n",
      "\n",
      "    accuracy                           0.97      3705\n",
      "   macro avg       0.96      0.96      0.96      3705\n",
      "weighted avg       0.97      0.97      0.97      3705\n",
      "\n"
     ]
    },
    {
     "data": {
      "image/png": "[encoded data removed]",
      "text/plain": [
       "<Figure size 640x480 with 2 Axes>"
      ]
     },
     "metadata": {},
     "output_type": "display_data"
    },
    {
     "data": {
      "image/png": "[encoded data removed]",
      "text/plain": [
       "<Figure size 640x480 with 1 Axes>"
      ]
     },
     "metadata": {},
     "output_type": "display_data"
    }
   ],
   "source": [
    "# Evaluate best model\n",
    "best_model = grid_search.best_estimator_\n",
    "y_pred_best = best_model.predict(X_test)\n",
    "print(\"Tuned Model Performance:\")\n",
    "print(classification_report(y_test, y_pred_best))\n",
    "ConfusionMatrixDisplay.from_estimator(best_model, X_test, y_test)\n",
    "plt.title(\"Tuned Confusion Matrix\")\n",
    "plt.show()\n",
    "\n",
    "# Feature importance\n",
    "xgb.plot_importance(best_model, max_num_features=10)\n",
    "plt.title(\"Top 10 Feature Importances\")\n",
    "plt.show()"
   ]
  },
  {
   "cell_type": "code",
   "execution_count": 10,
   "id": "fb9e693b",
   "metadata": {
    "execution": {
     "iopub.execute_input": "2025-07-06T09:15:05.218683Z",
     "iopub.status.busy": "2025-07-06T09:15:05.218377Z",
     "iopub.status.idle": "2025-07-06T09:15:05.249828Z",
     "shell.execute_reply": "2025-07-06T09:15:05.249157Z"
    },
    "papermill": {
     "duration": 0.039751,
     "end_time": "2025-07-06T09:15:05.251738",
     "exception": false,
     "start_time": "2025-07-06T09:15:05.211987",
     "status": "completed"
    },
    "tags": []
   },
   "outputs": [],
   "source": [
    "X_test_t = test.drop(columns=['id'])\n",
    "y_test_pred = best_model.predict(X_test_t)\n",
    "y_test_pred_labels = le.inverse_transform(y_test_pred)\n",
    "\n",
    "submission = pd.DataFrame({\n",
    "    'id': test['id'],\n",
    "    'Personality': y_test_pred_labels\n",
    "})\n",
    "\n",
    "submission.to_csv(\"Predict the Introverts from the Extroverts.csv\", index=False)\n"
   ]
  },
  {
   "cell_type": "code",
   "execution_count": 11,
   "id": "60ebe99a",
   "metadata": {
    "execution": {
     "iopub.execute_input": "2025-07-06T09:15:05.264036Z",
     "iopub.status.busy": "2025-07-06T09:15:05.263665Z",
     "iopub.status.idle": "2025-07-06T09:15:05.269542Z",
     "shell.execute_reply": "2025-07-06T09:15:05.268727Z"
    },
    "papermill": {
     "duration": 0.013718,
     "end_time": "2025-07-06T09:15:05.271029",
     "exception": false,
     "start_time": "2025-07-06T09:15:05.257311",
     "status": "completed"
    },
    "tags": []
   },
   "outputs": [
    {
     "data": {
      "text/plain": [
       "(6175, 2)"
      ]
     },
     "execution_count": 11,
     "metadata": {},
     "output_type": "execute_result"
    }
   ],
   "source": [
    "submission.shape\n"
   ]
  },
  {
   "cell_type": "code",
   "execution_count": 12,
   "id": "a53e646e",
   "metadata": {
    "execution": {
     "iopub.execute_input": "2025-07-06T09:15:05.283615Z",
     "iopub.status.busy": "2025-07-06T09:15:05.283298Z",
     "iopub.status.idle": "2025-07-06T09:15:05.287927Z",
     "shell.execute_reply": "2025-07-06T09:15:05.286982Z"
    },
    "papermill": {
     "duration": 0.012621,
     "end_time": "2025-07-06T09:15:05.289376",
     "exception": false,
     "start_time": "2025-07-06T09:15:05.276755",
     "status": "completed"
    },
    "tags": []
   },
   "outputs": [],
   "source": [
    "# inbalanced data\n",
    "# xgboost\n",
    "# crass validation(AUC to evaluate the performace), balance the postive and negitive weithg via scale_pos_weight"
   ]
  }
 ],
 "metadata": {
  "kaggle": {
   "accelerator": "none",
   "dataSources": [
    {
     "databundleVersionId": 12738969,
     "sourceId": 91718,
     "sourceType": "competition"
    }
   ],
   "dockerImageVersionId": 31040,
   "isGpuEnabled": false,
   "isInternetEnabled": true,
   "language": "python",
   "sourceType": "notebook"
  },
  "kernelspec": {
   "display_name": "Python 3",
   "language": "python",
   "name": "python3"
  },
  "language_info": {
   "codemirror_mode": {
    "name": "ipython",
    "version": 3
   },
   "file_extension": ".py",
   "mimetype": "text/x-python",
   "name": "python",
   "nbconvert_exporter": "python",
   "pygments_lexer": "ipython3",
   "version": "3.11.11"
  },
  "papermill": {
   "default_parameters": {},
   "duration": 76.964658,
   "end_time": "2025-07-06T09:15:07.916879",
   "environment_variables": {},
   "exception": null,
   "input_path": "__notebook__.ipynb",
   "output_path": "__notebook__.ipynb",
   "parameters": {},
   "start_time": "2025-07-06T09:13:50.952221",
   "version": "2.6.0"
  }
 },
 "nbformat": 4,
 "nbformat_minor": 5
}
